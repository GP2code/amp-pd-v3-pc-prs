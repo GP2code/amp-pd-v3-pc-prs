{
 "cells": [
  {
   "cell_type": "markdown",
   "metadata": {},
   "source": [
    "# PC caluculation and ancestry assignment\n",
    "\n",
    "AMP-PD data version 3 provided plink2 binary \"all_chrs_merged\" were processed with the following commands\n",
    "\n",
    "    plink2\\\n",
    "     --mac 20\n",
    "     --make-pgen\n",
    "     --out all_chr_merged_mac20\n",
    "     --pfile all_chrs_merged"
   ]
  },
  {
   "cell_type": "code",
   "execution_count": null,
   "metadata": {},
   "outputs": [],
   "source": [
    "%%bash\n",
    "mkdir -p temp\n",
    "sh infer_pop.sh all_chr_merged_mac20 ../../1kg_p3/all_hg38_filtered_chrpos temp 2"
   ]
  },
  {
   "cell_type": "code",
   "execution_count": null,
   "metadata": {},
   "outputs": [],
   "source": [
    "# %%bash\n",
    "# # if wanted to do the analysis again. \n",
    "# cd temp\n",
    "# INPUT=all_chr_merged_mac20\n",
    "# python3 ../process_pca_results.py --input ${INPUT}_snp_ref_pca"
   ]
  },
  {
   "cell_type": "markdown",
   "metadata": {},
   "source": [
    "# Calculate PRS\n",
    "\n",
    "rs11578699 was substituted with rs11577197 (perfect LD) and rs3742785 was substituted by rs10134885 (R2=0.989)"
   ]
  },
  {
   "cell_type": "code",
   "execution_count": null,
   "metadata": {},
   "outputs": [],
   "source": [
    "import pandas as pd\n",
    "import matplotlib.pyplot as plt\n",
    "import matplotlib.lines as mlines\n",
    "import seaborn as sns\n",
    "import argparse\n",
    "import requests\n",
    "import os\n",
    "import time\n",
    "import subprocess\n",
    "import sys"
   ]
  },
  {
   "cell_type": "code",
   "execution_count": null,
   "metadata": {},
   "outputs": [],
   "source": [
    "def submitTerminal(command, printing=False, message=''):\n",
    "    # quick command to submit jobs to terminal\n",
    "    start = time.time()\n",
    "    res=subprocess.run(command.split(' '), stdout=subprocess.PIPE)\n",
    "    end = time.time()\n",
    "    sys.stdout.write('EXEC_TIME in sec: '+ str(round(end - start, 3)) + ' : ')\n",
    "    if printing:\n",
    "        print(res.stdout.decode('utf-8'))\n",
    "    if message=='':\n",
    "        return(res.stdout.decode('utf-8'))\n",
    "    else:\n",
    "        print(message, '\\n')\n",
    "        \n",
    "def plink_cmd(plink_file_path, output_path, options):\n",
    "    cmd = f'plink2 --pfile {plink_file_path} {options} --out {output_path} --threads 2'\n",
    "    return cmd"
   ]
  },
  {
   "cell_type": "code",
   "execution_count": null,
   "metadata": {},
   "outputs": [],
   "source": [
    "%%bash\n",
    "mkdir -p prs\n",
    "cd prs\n",
    "wget https://raw.githubusercontent.com/neurogenetics/genetic-risk-score/master/META5_GRS_RSid.txt"
   ]
  },
  {
   "cell_type": "code",
   "execution_count": null,
   "metadata": {},
   "outputs": [],
   "source": [
    "os.chdir('prs')"
   ]
  },
  {
   "cell_type": "code",
   "execution_count": null,
   "metadata": {},
   "outputs": [],
   "source": [
    "t = pd.read_csv('META5_GRS_RSid.txt', delim_whitespace=True, header=None)\n",
    "\n",
    "# We need to replace two SNPs to the proxy\n",
    "t[1] = ['T' if rsid=='rs11578699'\n",
    "        else 'C' if rsid=='rs3742785'\n",
    "        else effect_allele for effect_allele, rsid in zip(t[1], t[0])]\n",
    "t[0] = ['rs11577197' if rsid=='rs11578699' # Perfect LD in EUR\n",
    "        else 'rs10134885' if rsid=='rs3742785' # Nearly perfect LD in EUR (R2=0.989)\n",
    "        else rsid for rsid in t[0]]\n",
    "t.to_csv('META5_GRS_RSid_proxy.txt', sep='\\t', header=None, index=False)"
   ]
  },
  {
   "cell_type": "code",
   "execution_count": null,
   "metadata": {},
   "outputs": [],
   "source": [
    "# create a plink2 file only contains meta5 proxies\n",
    "score_path='META5_GRS_RSid_proxy.txt'\n",
    "t= submitTerminal(plink_cmd('../all_chr_merged_mac20', 'meta5_proxy', \n",
    "                            f'--extract {score_path}  --make-pgen'), \n",
    "                            message='extract all meta5 variants')"
   ]
  },
  {
   "cell_type": "code",
   "execution_count": null,
   "metadata": {},
   "outputs": [],
   "source": [
    "# Generate various PRS lists\n",
    "df = pd.read_csv('META5_GRS_RSid_proxy.txt', delim_whitespace=True, names=['rsID', 'EffectAllele', 'Beta'])\n",
    "\n",
    "snp_to_exclude1 = [\n",
    "    'rs114138760', # GBA \n",
    "    'rs35749011',  # GBA, LD with E326K\n",
    "    'rs76763715',  # GBA N370N\n",
    "    ]  \n",
    "\n",
    "snp_to_exclude2 = [\n",
    "    'rs34637584',  # LRRK2 G2019S\n",
    "    'rs76904798',  # LRRK2 \n",
    "    ]  \n",
    "\n",
    "\n",
    "snp_to_exclude3 = [\n",
    "    'rs114138760', # GBA \n",
    "    'rs35749011',  # GBA, LD with E326K\n",
    "    'rs76763715',  # GBA N370N\n",
    "    'rs34637584',  # LRRK2 G2019S\n",
    "    'rs76904798',  # LRRK2 \n",
    "#     'rs5019538',   # SNCA\n",
    "#     'rs13117519', # SNCA\n",
    "    ]  \n",
    "\n",
    "snp_to_exclude4 = [\n",
    "    'rs11577197', # proxy\n",
    "    'rs10134885', # proxy\n",
    "    ] \n",
    "\n",
    "df1 = df[~df.rsID.isin(snp_to_exclude1)]\n",
    "print(df1.shape)\n",
    "df1.to_csv('META5_GRS_RSid_proxy_exclude_GBA.txt', sep='\\t', header=None, index=False)\n",
    "\n",
    "df2 = df[~df.rsID.isin(snp_to_exclude2)]\n",
    "print(df2.shape)\n",
    "df2.to_csv('META5_GRS_RSid_proxy_exclude_LRRK2.txt', sep='\\t', header=None, index=False)\n",
    "\n",
    "df3 = df[~df.rsID.isin(snp_to_exclude3)]\n",
    "print(df3.shape)\n",
    "df3.to_csv('META5_GRS_RSid_proxy_exclude_LRRK2_GBA.txt', sep='\\t', header=None, index=False)\n",
    "\n",
    "\n",
    "df4 = df3[~df3.rsID.isin(snp_to_exclude4)]\n",
    "print(df4.shape)\n",
    "df4.to_csv('META5_GRS_RSid_no_proxy_exclude_LRRK2_GBA.txt', sep='\\t', header=None, index=False)"
   ]
  },
  {
   "cell_type": "code",
   "execution_count": null,
   "metadata": {},
   "outputs": [],
   "source": [
    "score_path = 'META5_GRS_RSid.txt'\n",
    "t= submitTerminal(plink_cmd('meta5_proxy', 'prs_no_proxy', f'--score {score_path}'), \n",
    "                  message='prs without proxy')\n",
    "\n",
    "score_path = 'META5_GRS_RSid_proxy.txt'\n",
    "t= submitTerminal(plink_cmd('meta5_proxy', 'prs_proxy', f'--score {score_path}'), \n",
    "                  message='prs with proxy')\n",
    "\n",
    "score_path = 'META5_GRS_RSid_no_proxy_exclude_LRRK2_GBA.txt'\n",
    "t= submitTerminal(plink_cmd('meta5_proxy', 'prs_no_proxy_exclude_LRRK2_GBA', f'--score {score_path}'), \n",
    "                  message='prs without proxy excluding 5 variants in LRRK2, GBA')\n",
    "\n",
    "score_path = 'META5_GRS_RSid_proxy_exclude_LRRK2_GBA.txt'\n",
    "t= submitTerminal(plink_cmd('meta5_proxy', 'prs_proxy_exclude_LRRK2_GBA', f'--score {score_path}'), \n",
    "                  message='prs with proxy excluding 5 variants in LRRK2, GBA')\n",
    "\n",
    "score_path = 'META5_GRS_RSid_proxy_exclude_LRRK2.txt'\n",
    "t= submitTerminal(plink_cmd('meta5_proxy', 'prs_proxy_exclude_LRRK2', f'--score {score_path}'), \n",
    "                  message='prs with proxy excluding 2 variants in LRRK2')\n",
    "\n",
    "score_path = 'META5_GRS_RSid_proxy_exclude_GBA.txt'\n",
    "t= submitTerminal(plink_cmd('meta5_proxy', 'prs_proxy_exclude_GBA', f'--score {score_path}'), \n",
    "                  message='prs with proxy excluding 3 variants in GBA')"
   ]
  },
  {
   "cell_type": "code",
   "execution_count": null,
   "metadata": {},
   "outputs": [],
   "source": [
    "d1 = pd.read_csv('prs_no_proxy.sscore', delim_whitespace=True, index_col = 'IID', usecols=['IID', 'SCORE1_AVG'])\n",
    "d2 = pd.read_csv('prs_no_proxy_exclude_LRRK2_GBA.sscore', delim_whitespace=True, index_col = 'IID', usecols=['IID', 'SCORE1_AVG'])\n",
    "d3 = pd.read_csv('prs_proxy.sscore', delim_whitespace=True, index_col = 'IID', usecols=['IID', 'SCORE1_AVG'])\n",
    "d4 = pd.read_csv('prs_proxy_exclude_LRRK2_GBA.sscore', delim_whitespace=True, index_col = 'IID', usecols=['IID', 'SCORE1_AVG'])\n",
    "d5 = pd.read_csv('prs_proxy_exclude_GBA.sscore', delim_whitespace=True, index_col = 'IID', usecols=['IID', 'SCORE1_AVG'])\n",
    "d6 = pd.read_csv('prs_proxy_exclude_LRRK2.sscore', delim_whitespace=True, index_col = 'IID', usecols=['IID', 'SCORE1_AVG'])\n",
    "d = pd.concat([d1,d2,d3,d4,d5,d6], axis=1)\n",
    "d.columns = ['PRS88','PRS83', 'PRSp90', 'PRSp85', 'PRSp87', 'PRSp88']\n",
    "# PRS88 -> Full (missing 2 SNPs)\n",
    "# PRS83 -> PRS88 Without GBA, LRRK2\n",
    "# PRSp90 -> Used proxy above\n",
    "# PRSp85 -> Used proxy above without GBA LRRK2\n",
    "# PRSp87 -> Used proxy above without GBA\n",
    "# PRSp88 -> Used proxy above without LRRK2\n",
    "d_standardized= (d-d.mean())/d.std()\n",
    "d_standardized.to_csv('prs.csv', index_label = 'IID')"
   ]
  },
  {
   "cell_type": "markdown",
   "metadata": {},
   "source": [
    "# Create a raw file for the individual SNPs transposed"
   ]
  },
  {
   "cell_type": "code",
   "execution_count": null,
   "metadata": {},
   "outputs": [],
   "source": [
    "#. Create transposed data\n",
    "score_path = 'META5_GRS_RSid_proxy.txt'\n",
    "t= submitTerminal(plink_cmd('meta5_proxy', 'meta5_proxy_transpose', f'--extract {score_path} --export A --export-allele {score_path}'),\n",
    "                  message='dosage')"
   ]
  }
 ],
 "metadata": {
  "kernelspec": {
   "display_name": "python/3.10",
   "language": "python",
   "name": "py3.10"
  },
  "language_info": {
   "codemirror_mode": {
    "name": "ipython",
    "version": 3
   },
   "file_extension": ".py",
   "mimetype": "text/x-python",
   "name": "python",
   "nbconvert_exporter": "python",
   "pygments_lexer": "ipython3",
   "version": "3.10.8"
  }
 },
 "nbformat": 4,
 "nbformat_minor": 2
}
